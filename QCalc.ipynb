{
 "cells": [
  {
   "cell_type": "markdown",
   "metadata": {},
   "source": [
    "# Mini-Project 1: Quantum Calculator\n",
    "\n",
    " This notebook showcases the function QCalc, which takes in a positive integer d and outputs a quantum circuit where \n",
    "\n",
    "$$QCalc|x\\rangle_d|y\\rangle_d |z\\rangle_1|0\\rangle_d = \n",
    "\\begin{cases} \n",
    "|x\\rangle_d|y\\rangle_d |z\\rangle_1|x+y \\mod 2^d\\rangle_d & \\text{if } z=0 \\\\\n",
    "|x\\rangle_d|y\\rangle_d |z\\rangle_1|xy \\mod 2^d\\rangle_d & \\text{if } z=1\n",
    "\\end{cases}$$\n",
    "\n",
    "In this next cell, I define the function QCalc which satisfies the requirements above and the allowed gates:"
   ]
  }

 ],
 "metadata": {
  "kernelspec": {
   "display_name": "Python 3",
   "language": "python",
   "name": "python3"
  },
  "language_info": {
   "codemirror_mode": {
    "name": "ipython",
    "version": 3
   },
   "file_extension": ".py",
   "mimetype": "text/x-python",
   "name": "python",
   "nbconvert_exporter": "python",
   "pygments_lexer": "ipython3",
   "version": "3.9.0"
  }
 },
 "nbformat": 4,
 "nbformat_minor": 4
}

