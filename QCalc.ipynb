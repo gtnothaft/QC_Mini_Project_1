{
 "cells": [
  {
   "cell_type": "markdown",
   "metadata": {},
   "source": [
    "# Mini-Project 1: Quantum Calculator\n",
    "\n",
    " This notebook showcases the function QCalc, which takes in a positive integer d and outputs a quantum circuit where \n",
    "\n",
    "$$QCalc|x\\rangle_d|y\\rangle_d |z\\rangle_1|0\\rangle_d = \n",
    "\\begin{cases} \n",
    "|x\\rangle_d|y\\rangle_d |z\\rangle_1|x+y \\mod 2^d\\rangle_d & \\text{if } z=0 \\\\\n",
    "|x\\rangle_d|y\\rangle_d |z\\rangle_1|xy \\mod 2^d\\rangle_d & \\text{if } z=1\n",
    "\\end{cases}$$\n",
    "\n",
    "In this next cell, I define the function QCalc which satisfies the requirements above and the allowed gates, together with the other necessary functions,including the adder and multiplier:"
   ]
  }, {
   "cell_type": "code",
   "execution_count": null,
   "metadata": {},
   "outputs": [],
   "source": [
    "def cp_gate(qc,phi, control, target):\n",
    "    # Apply P(ϕ/2) to target\n",
    "    qc.p(phi/2, target)\n",
    "    # Apply CNOT (control -> target)\n",
    "    qc.cx(control, target)\n",
    "    # Apply P(-ϕ/2) to target\n",
    "    qc.p(-phi/2, target)\n",
    "    # Apply CNOT again (control -> target)\n",
    "    qc.cx(control, target)\n",
    "    # Apply P(ϕ/2) to control (critical for correct phase!)\n",
    "    qc.p(phi/2, control)\n",
    "\n",
    "\n",
    "\n",
    "def qft(qc, qubits):\n",
    "    n = len(qubits)\n",
    "    for i in reversed(range(n)):\n",
    "        qc.h(qubits[i])\n",
    "        for j in reversed(range(i)):\n",
    "            angle = np.pi/(2**(i-j))\n",
    "            cp_gate(qc, angle, qubits[j], qubits[i])\n",
    "\n",
    "def iqft(qc, qubits):\n",
    "    n = len(qubits)\n",
    "    for i in range(n):\n",
    "        for j in range(i):\n",
    "            angle = -np.pi/(2**(i-j))\n",
    "            cp_gate(qc, angle, qubits[j], qubits[i])\n",
    "\n",
    "        qc.h(qubits[i])\n",
    "        qc.p(np.pi/2,qubits[i])\n",
    "\n",
    "\n",
    "def controlled_adder(qc, d, a, b, z, ancilla):\n",
    "    # QFT on target register\n",
    "    qft(qc, b)\n",
    "\n",
    "    qc.barrier()\n",
    "    \n",
    "    # Perform controlled addition\n",
    "    for i in reversed(range(d)):\n",
    "        for j in reversed(range(i+1)):\n",
    "            angle = np.pi/(2**(i-j))\n",
    "            # Implement controlled phase operation (when z=0)\n",
    "            qc.x(z)\n",
    "            qc.ccx(z, a[j], ancilla)\n",
    "            cp_gate(qc, angle, ancilla, b[i])\n",
    "            qc.p(-angle/2, ancilla)\n",
    "            qc.ccx(z, a[j], ancilla)\n",
    "            qc.x(z)\n",
    "    qc.barrier()\n",
    "    # IQFT on target register\n",
    "    iqft(qc, b)\n",
    "\n",
    "\n",
    "def controlled_multiplier(qc,d,x,y,z,result):\n",
    "    ancilla_1 = AncillaRegister(d, 'anc_1')\n",
    "    ancilla_2 = AncillaRegister(1, 'anc_2')\n",
    "    qc.add_register(ancilla_1)\n",
    "    qc.add_register(ancilla_2)\n",
    "    \n",
    "    # Initialize result to 0 (for addition, y gets copied over but we do not want that during multiplication)\n",
    "    for i in range(d):\n",
    "        qc.cx(y[i], result[i])\n",
    "    \n",
    "    qft(qc, result)\n",
    "\n",
    "    qc.barrier()\n",
    "\n",
    "    for i in range(d):\n",
    "        qc.ccx(z,y[i],ancilla_1[0])\n",
    "\n",
    "        for j in range(d):\n",
    "            qc.ccx(x[j],ancilla_2[0],ancilla_1[j])\n",
    "\n",
    "        for j in range(d): #shift and add multiplication\n",
    "            for k in range(d):\n",
    "                if j+k<d:\n",
    "                    angle=np.pi/(2**k)\n",
    "                    cp_gate(qc,angle,ancilla_1[j],result[j+k])\n",
    "\n",
    "        for j in reversed(range(d)):\n",
    "            qc.ccx(x[j],ancilla_2[0],ancilla_1[j])\n",
    "\n",
    "        qc.ccx(z,y[i],ancilla_1[0])\n",
    "\n",
    "    qc.barrier()\n",
    "\n",
    "    iqft(qc,result)\n",
    "\n",
    "\n",
    "\n",
    "def Qcalc(d):\n",
    "    # Create registers\n",
    "    x = QuantumRegister(d, 'x')\n",
    "    y = QuantumRegister(d, 'y')\n",
    "    z = QuantumRegister(1, 'z')\n",
    "    result = QuantumRegister(d, 'result')\n",
    "    ancilla = AncillaRegister(1, 'ancilla')  # Only need 1 ancilla\n",
    "    \n",
    "    qc = QuantumCircuit(result,z,y,x, ancilla)\n",
    "\n",
    "    # Copy y to result (initial value for addition)\n",
    "    for i in range(d):\n",
    "        qc.cx(y[i], result[i])\n",
    "    qc.barrier()\n",
    "\n",
    "\n",
    "    # Implement controlled operations based on z\n",
    "    controlled_adder(qc, d, x, result,z,ancilla[0])\n",
    "\n",
    "\n",
    "    qc.barrier()\n",
    "    \n",
    "\n",
    "    \n",
    "    # Implement controlled multiplication\n",
    "    controlled_multiplier(qc,d,x,y,z,result)\n",
    "    qc.barrier()\n",
    "    \n",
    "    return qc"
   ]
  }, {
   "cell_type": "markdown",
   "metadata": {},
   "source": [
    "This next block of code will output the circuit diagram based on the chosen value of d."
   ]
  }, {
   "cell_type": "code",
   "execution_count": null,
   "metadata": {},
   "outputs": [],
   "source": [
    "d = 2\n",
    "qc = Qcalc(d)\n",
    "qc.draw(output=\"mpl\", style=\"bw\", fold=-1)"
   ]
  },  {
   "cell_type": "markdown",
   "metadata": {},
   "source": [
    "This next blocks of code outputs the number of gates used, the gate depth, and the number of qubits used."
   ]
  }, {
   "cell_type": "code",
   "execution_count": null,
   "metadata": {},
   "outputs": [],
   "source": [
    "#number of gates\n",
    "qc.count_ops()"
   ]
  },
  {
   "cell_type": "code",
   "execution_count": null,
   "metadata": {},
   "outputs": [],
   "source": [
    "#gate depth\n",
    "qc.depth()"
   ]
  },
  {
   "cell_type": "code",
   "execution_count": null,
   "metadata": {},
   "outputs": [],
   "source": [
    "#number of qubits\n",
    "qc.num_qubits"
   ]
  }, {
   "cell_type": "markdown",
   "metadata": {},
   "source": [
    "Now let us test the multiplication, with x=2 and y=1."
   ]
  }, {
   "cell_type": "code",
   "execution_count": null,
   "metadata": {},
   "outputs": [],
   "source": [
    "def test_multiplication(d=2):\n",
    "    x = QuantumRegister(d, 'x')\n",
    "    y = QuantumRegister(d, 'y')\n",
    "    z = QuantumRegister(1, 'z')  \n",
    "    result = QuantumRegister(d, 'result')\n",
    "    ancilla_1 = AncillaRegister(d, 'anc_3')  \n",
    "    ancilla_2 = AncillaRegister(1, 'anc_4')  \n",
    "    \n",
    "    qc = QuantumCircuit(result, z, y, x, ancilla_1, ancilla_2)\n",
    "    \n",
    "    # x = 2 (10)\n",
    "    qc.x(x[1])\n",
    "    # y = 1 (01)\n",
    "    qc.x(y[0])\n",
    "    # z = 1 (multiplication mode)\n",
    "    qc.x(z)\n",
    "    \n",
    "    for i in range(d):\n",
    "        qc.cx(y[i], result[i])\n",
    "    \n",
    "    qc.barrier()\n",
    "    \n",
    "    controlled_multiplier(qc, d, x, y, z[0], result)\n",
    "    \n",
    "    return qc\n",
    "\n",
    "\n",
    "qc = test_multiplication(2)\n",
    "sv = Statevector(qc)\n",
    "print(\"Final statevector:\")\n",
    "sv.draw('latex')"
   ]
  }, {
   "cell_type": "markdown",
   "metadata": {},
   "source": [
    "Now let us test the addition, with x=2 and y=1."
   ]
  }, {
   "cell_type": "code",
   "execution_count": null,
   "metadata": {},
   "outputs": [],
   "source": [
    "def test_addition(d=2):\n",
    "    x = QuantumRegister(d, 'x')\n",
    "    y = QuantumRegister(d, 'y')\n",
    "    z = QuantumRegister(1, 'z')  \n",
    "    result = QuantumRegister(d, 'result')\n",
    "    ancilla_1 = AncillaRegister(d, 'anc_3')  \n",
    "    ancilla_2 = AncillaRegister(1, 'anc_4')  \n",
    "    \n",
    "    qc = QuantumCircuit(result, z, y, x, ancilla_1, ancilla_2)\n",
    "    \n",
    "    # x = 2 (10)\n",
    "    qc.x(x[1])\n",
    "    # y = 1 (01)\n",
    "    qc.x(y[0])\n",
    "    # z = 0 (addition mode)\n",
    "    \n",
    "    for i in range(d):\n",
    "        qc.cx(y[i], result[i])\n",
    "    \n",
    "    qc.barrier()\n",
    "    \n",
    "    controlled_adder(qc, d, x, result, z, ancilla_2[0])\n",
    "    \n",
    "    return qc\n",
    "\n",
    "\n",
    "qc = test_addition(2)\n",
    "sv = Statevector(qc)\n",
    "print(\"Final statevector:\")\n",
    "sv.draw('latex')"
   ]
  }, {
   "cell_type": "markdown",
   "metadata": {},
   "source": [
    "All the citations are in the References.md file"
   ]
  }
 ],
 "metadata": {
  "kernelspec": {
   "display_name": "Python 3",
   "language": "python",
   "name": "python3"
  },
  "language_info": {
   "codemirror_mode": {
    "name": "ipython",
    "version": 3
   },
   "file_extension": ".py",
   "mimetype": "text/x-python",
   "name": "python",
   "nbconvert_exporter": "python",
   "pygments_lexer": "ipython3",
   "version": "3.9.0"
  }
 },
 "nbformat": 4,
 "nbformat_minor": 4
}
